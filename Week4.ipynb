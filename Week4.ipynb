{
 "cells": [
  {
   "cell_type": "code",
   "execution_count": 1,
   "id": "12a2f7d1",
   "metadata": {},
   "outputs": [],
   "source": [
    "import numpy as np"
   ]
  },
  {
   "cell_type": "markdown",
   "id": "6bf5f6b1",
   "metadata": {},
   "source": [
    "## 1"
   ]
  },
  {
   "cell_type": "code",
   "execution_count": 2,
   "id": "cdf5d5c6",
   "metadata": {},
   "outputs": [
    {
     "data": {
      "text/plain": [
       "'1.19.5'"
      ]
     },
     "execution_count": 2,
     "metadata": {},
     "output_type": "execute_result"
    }
   ],
   "source": [
    "np.__version__"
   ]
  },
  {
   "cell_type": "code",
   "execution_count": 4,
   "id": "a27bb09d",
   "metadata": {},
   "outputs": [
    {
     "name": "stdout",
     "output_type": "stream",
     "text": [
      "Enter number of elements in the list 6\n",
      "Enter next 1\n",
      "Enter next 2\n",
      "Enter next 1\n",
      "Enter next 4\n",
      "Enter next 2\n",
      "Enter next 1\n",
      "1  appears  3  times\n",
      "2  appears  2  times\n",
      "4  appears  1  times\n"
     ]
    }
   ],
   "source": [
    "n = int(input('Enter number of elements in the list '))\n",
    "l = []\n",
    "for i in range(0, n):\n",
    "    l.append(int(input('Enter next ')))\n",
    "l = np.array(l)\n",
    "arr1, arr2 = np.unique(l, return_counts = True)\n",
    "for i, j in zip(arr1, arr2):\n",
    "    print(i, \" appears \", j, \" times\")"
   ]
  },
  {
   "cell_type": "markdown",
   "id": "a3a6b257",
   "metadata": {},
   "source": [
    "## 2"
   ]
  },
  {
   "cell_type": "code",
   "execution_count": 5,
   "id": "183c512b",
   "metadata": {},
   "outputs": [
    {
     "name": "stdout",
     "output_type": "stream",
     "text": [
      "Enter a binary number 1110011\n"
     ]
    },
    {
     "data": {
      "text/plain": [
       "'1111100'"
      ]
     },
     "execution_count": 5,
     "metadata": {},
     "output_type": "execute_result"
    }
   ],
   "source": [
    "l = list(input('Enter a binary number '))\n",
    "l = np.array(l)\n",
    "l.sort()\n",
    "(\"\").join(list(l))[::-1]"
   ]
  },
  {
   "cell_type": "markdown",
   "id": "ef4d9c05",
   "metadata": {},
   "source": [
    "## 3"
   ]
  },
  {
   "cell_type": "code",
   "execution_count": 6,
   "id": "42e592ee",
   "metadata": {},
   "outputs": [
    {
     "name": "stdout",
     "output_type": "stream",
     "text": [
      "Enter a string Hello Hi Bonjour\n",
      "Enter index to remove 7\n",
      "Hello H Bonjour\n"
     ]
    }
   ],
   "source": [
    "s = input('Enter a string ')\n",
    "n = int(input('Enter index to remove '))\n",
    "l = list(s)\n",
    "l = l[0:n] + l[n+1:]\n",
    "print((\"\").join(l))"
   ]
  },
  {
   "cell_type": "markdown",
   "id": "d8289aa3",
   "metadata": {},
   "source": [
    "## 4"
   ]
  },
  {
   "cell_type": "code",
   "execution_count": 7,
   "id": "d5358cb8",
   "metadata": {},
   "outputs": [
    {
     "name": "stdout",
     "output_type": "stream",
     "text": [
      "[[0. 0. 0. 0. 0.]\n",
      " [0. 1. 1. 1. 0.]\n",
      " [0. 1. 1. 1. 0.]\n",
      " [0. 1. 1. 1. 0.]\n",
      " [0. 0. 0. 0. 0.]]\n"
     ]
    }
   ],
   "source": [
    "arr = np.ones(shape = (3, 3))\n",
    "arr1 = np.zeros(shape = (1, 3))\n",
    "arr2 = np.zeros(shape = (5, 1))\n",
    "arr3 = np.r_[arr1, arr, arr1]\n",
    "arr4 = np.c_[arr2, arr3, arr2]\n",
    "print(arr4)"
   ]
  },
  {
   "cell_type": "markdown",
   "id": "6337bd26",
   "metadata": {},
   "source": [
    "## 5"
   ]
  },
  {
   "cell_type": "code",
   "execution_count": 8,
   "id": "a6d543e3",
   "metadata": {},
   "outputs": [
    {
     "data": {
      "text/plain": [
       "[True, False, False, True, False]"
      ]
     },
     "execution_count": 8,
     "metadata": {},
     "output_type": "execute_result"
    }
   ],
   "source": [
    "a1 = np.array([0, 10, 20, 40, 60])\n",
    "a2 = np.array([0, 40])\n",
    "a3 = []\n",
    "for i in a1:\n",
    "    a3.append(bool(np.isin(i, a2)))\n",
    "a3"
   ]
  },
  {
   "cell_type": "markdown",
   "id": "a41fb04f",
   "metadata": {},
   "source": [
    "## 6"
   ]
  },
  {
   "cell_type": "code",
   "execution_count": 9,
   "id": "7edc8021",
   "metadata": {},
   "outputs": [
    {
     "data": {
      "text/plain": [
       "[0, 20, 30, 50, 60, 70, 80]"
      ]
     },
     "execution_count": 9,
     "metadata": {},
     "output_type": "execute_result"
    }
   ],
   "source": [
    "a1 = np.array([0, 10, 20, 40, 60, 80])\n",
    "a2 = np.array([10, 30, 40, 50, 70])\n",
    "a3 = [i for i in np.union1d(a1, a2) if i not in np.intersect1d(a1, a2)]\n",
    "a3"
   ]
  },
  {
   "cell_type": "markdown",
   "id": "e5a7423d",
   "metadata": {},
   "source": [
    "## 7"
   ]
  },
  {
   "cell_type": "code",
   "execution_count": 10,
   "id": "3b04bdf2",
   "metadata": {},
   "outputs": [
    {
     "data": {
      "text/plain": [
       "array([[ 0, 10],\n",
       "       [10, 30],\n",
       "       [20, 40],\n",
       "       [40, 50],\n",
       "       [60, 70]])"
      ]
     },
     "execution_count": 10,
     "metadata": {},
     "output_type": "execute_result"
    }
   ],
   "source": [
    "a1 = np.array([0, 10, 20, 40, 60])\n",
    "a2 = np.array([10, 30, 40, 50, 70])\n",
    "a3 = np.column_stack((a1, a2))\n",
    "a3"
   ]
  },
  {
   "cell_type": "markdown",
   "id": "387db41a",
   "metadata": {},
   "source": [
    "## 8"
   ]
  },
  {
   "cell_type": "code",
   "execution_count": 11,
   "id": "391491b2",
   "metadata": {},
   "outputs": [
    {
     "name": "stdout",
     "output_type": "stream",
     "text": [
      "Rank  2\n",
      "Trace  34\n",
      "Determinant  0.0\n"
     ]
    }
   ],
   "source": [
    "matrix = np.array([[1, 2, 3, 4], [5, 6, 7, 8], [9, 10, 11, 12], [13, 14, 15, 16]])\n",
    "print('Rank ', np.linalg.matrix_rank(matrix))\n",
    "print('Trace ', np.trace(matrix))\n",
    "print('Determinant ', np.linalg.det(matrix))"
   ]
  }
 ],
 "metadata": {
  "kernelspec": {
   "display_name": "Python 3",
   "language": "python",
   "name": "python3"
  },
  "language_info": {
   "codemirror_mode": {
    "name": "ipython",
    "version": 3
   },
   "file_extension": ".py",
   "mimetype": "text/x-python",
   "name": "python",
   "nbconvert_exporter": "python",
   "pygments_lexer": "ipython3",
   "version": "3.8.10"
  }
 },
 "nbformat": 4,
 "nbformat_minor": 5
}
