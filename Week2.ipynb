{
 "cells": [
  {
   "cell_type": "markdown",
   "id": "48bafbaf",
   "metadata": {},
   "source": [
    "## Q1"
   ]
  },
  {
   "cell_type": "code",
   "execution_count": 36,
   "id": "1f70e49d",
   "metadata": {},
   "outputs": [
    {
     "name": "stdout",
     "output_type": "stream",
     "text": [
      "Duplicate elements:  [1, 2]\n"
     ]
    }
   ],
   "source": [
    "def duplicate(l):\n",
    "    freq = {}\n",
    "    newl = []\n",
    "    for i in l:\n",
    "        if not i in freq:\n",
    "            freq[i] = 1\n",
    "        else:\n",
    "            freq[i] = freq[i] + 1\n",
    "    for m in freq:\n",
    "        if freq[m] > 1:\n",
    "            newl.append(m)\n",
    "    return newl\n",
    "l = [1, 2, 3, 1, 2, 4, 5]\n",
    "newl = duplicate(l)\n",
    "print(\"Duplicate elements: \", newl)"
   ]
  },
  {
   "cell_type": "markdown",
   "id": "90e91520",
   "metadata": {},
   "source": [
    "## Q2"
   ]
  },
  {
   "cell_type": "code",
   "execution_count": 37,
   "id": "395d205a",
   "metadata": {},
   "outputs": [
    {
     "name": "stdout",
     "output_type": "stream",
     "text": [
      "[[1, 2, 3, 4], [5, 6]]\n"
     ]
    }
   ],
   "source": [
    "def group(l, s):\n",
    "    ans = []\n",
    "    prev = 0\n",
    "    for i in range(1, len(l) + 1):\n",
    "        if(i % s == 0):\n",
    "            ans.append(l[prev : i])\n",
    "            prev = i\n",
    "    if(prev is not len(l)):\n",
    "        ans.append(l[prev : len(l)])\n",
    "    return ans\n",
    "l = [1, 2, 3, 4, 5, 6]\n",
    "ans = group(l, 4)\n",
    "print(ans)\n"
   ]
  },
  {
   "cell_type": "markdown",
   "id": "1fe2558f",
   "metadata": {},
   "source": [
    "## Q3"
   ]
  },
  {
   "cell_type": "code",
   "execution_count": 38,
   "id": "be9abd1d",
   "metadata": {},
   "outputs": [
    {
     "name": "stdout",
     "output_type": "stream",
     "text": [
      "['p', 'abc', 'mkh', 'drfg', 'pljhb']\n"
     ]
    }
   ],
   "source": [
    "def func(e):\n",
    "    return len(e)\n",
    "def lensort(l):\n",
    "    l.sort(key = func)\n",
    "    return l\n",
    "l = [\"abc\", \"drfg\", \"mkh\", \"pljhb\", \"p\"]\n",
    "l = lensort(l)\n",
    "print(l)"
   ]
  },
  {
   "cell_type": "markdown",
   "id": "888277d5",
   "metadata": {},
   "source": [
    "## Q4"
   ]
  },
  {
   "cell_type": "code",
   "execution_count": 39,
   "id": "42070723",
   "metadata": {},
   "outputs": [
    {
     "name": "stdout",
     "output_type": "stream",
     "text": [
      "['p.c', 'drfg.py', 'abc.cpp', 'pljhb.ipynb', 'mkh.tflite']\n"
     ]
    }
   ],
   "source": [
    "def func(e):\n",
    "    return len(e.split(\".\")[1])\n",
    "def lensort(l):\n",
    "    l.sort(key = func)\n",
    "    return l\n",
    "l = [\"abc.cpp\", \"drfg.py\", \"mkh.tflite\", \"pljhb.ipynb\", \"p.c\"]\n",
    "l = lensort(l)\n",
    "print(l)"
   ]
  },
  {
   "cell_type": "markdown",
   "id": "76f282ad",
   "metadata": {},
   "source": [
    "## Q5"
   ]
  },
  {
   "cell_type": "code",
   "execution_count": 138,
   "id": "67312bac",
   "metadata": {},
   "outputs": [],
   "source": [
    "file = open('File1.txt', 'w')\n",
    "file.write('This is file1')\n",
    "file.close()"
   ]
  },
  {
   "cell_type": "code",
   "execution_count": 139,
   "id": "c6b62ac4",
   "metadata": {},
   "outputs": [
    {
     "name": "stdout",
     "output_type": "stream",
     "text": [
      "This is file1\n"
     ]
    }
   ],
   "source": [
    "file = open(\"File1.txt\", 'r')\n",
    "k = file.read()\n",
    "file.close()\n",
    "print(k)"
   ]
  },
  {
   "cell_type": "code",
   "execution_count": 140,
   "id": "686c20ae",
   "metadata": {},
   "outputs": [],
   "source": [
    "file = open('File1.txt', 'a')\n",
    "file.write('. This is file1 again')\n",
    "file.close()"
   ]
  },
  {
   "cell_type": "code",
   "execution_count": 29,
   "id": "0987db6e",
   "metadata": {},
   "outputs": [
    {
     "name": "stdout",
     "output_type": "stream",
     "text": [
      "This is file1. This is file1 again\n"
     ]
    }
   ],
   "source": [
    "file = open(\"File1.txt\", 'r')\n",
    "k = file.read()\n",
    "file.close()\n",
    "print(k)"
   ]
  },
  {
   "cell_type": "code",
   "execution_count": 141,
   "id": "538ef03b",
   "metadata": {},
   "outputs": [],
   "source": [
    "lines = [\"This\", \"is\", \"file1\", \"again\"]\n",
    "with open('File1.txt', 'a') as f:\n",
    "    for line in lines:\n",
    "        f.write('\\n')\n",
    "        f.write(line)"
   ]
  },
  {
   "cell_type": "code",
   "execution_count": 31,
   "id": "d8bb48b7",
   "metadata": {},
   "outputs": [
    {
     "name": "stdout",
     "output_type": "stream",
     "text": [
      "This is file1. This is file1 again\n",
      "This\n",
      "is\n",
      "file1\n",
      "again\n"
     ]
    }
   ],
   "source": [
    "file = open(\"File1.txt\", 'r')\n",
    "k = file.read()\n",
    "file.close()\n",
    "print(k)"
   ]
  },
  {
   "cell_type": "code",
   "execution_count": 32,
   "id": "44409254",
   "metadata": {},
   "outputs": [],
   "source": [
    "lines = [\"This\", \"is\", \"file1\", \"again\"]\n",
    "with open('File1.txt', 'a') as f:\n",
    "    f.writelines(lines)"
   ]
  },
  {
   "cell_type": "code",
   "execution_count": 33,
   "id": "4ad70ae2",
   "metadata": {},
   "outputs": [
    {
     "name": "stdout",
     "output_type": "stream",
     "text": [
      "This is file1. This is file1 again\n",
      "This\n",
      "is\n",
      "file1\n",
      "againThisisfile1again\n"
     ]
    }
   ],
   "source": [
    "file = open(\"File1.txt\", 'r')\n",
    "k = file.read()\n",
    "file.close()\n",
    "print(k)"
   ]
  },
  {
   "cell_type": "code",
   "execution_count": 34,
   "id": "16fb4672",
   "metadata": {},
   "outputs": [
    {
     "name": "stdout",
     "output_type": "stream",
     "text": [
      "This is file1. This is file1 again\n",
      "\n"
     ]
    }
   ],
   "source": [
    "file = open(\"File1.txt\", 'r')\n",
    "k = file.readline()\n",
    "file.close()\n",
    "print(k)"
   ]
  },
  {
   "cell_type": "code",
   "execution_count": 35,
   "id": "af2f56db",
   "metadata": {},
   "outputs": [
    {
     "name": "stdout",
     "output_type": "stream",
     "text": [
      "['This is file1. This is file1 again\\n', 'This\\n', 'is\\n', 'file1\\n', 'againThisisfile1again']\n"
     ]
    }
   ],
   "source": [
    "file = open(\"File1.txt\", 'r')\n",
    "k = file.readlines()\n",
    "file.close()\n",
    "print(k)"
   ]
  },
  {
   "cell_type": "markdown",
   "id": "fba3ea55",
   "metadata": {},
   "source": [
    "## Q6"
   ]
  },
  {
   "cell_type": "code",
   "execution_count": 45,
   "id": "48da6027",
   "metadata": {},
   "outputs": [
    {
     "name": "stdout",
     "output_type": "stream",
     "text": [
      "Lines =  5 , Words =  11 , Characters =  70\n"
     ]
    }
   ],
   "source": [
    "words = 0\n",
    "characters = 0\n",
    "file = open(\"File1.txt\", 'r')\n",
    "lines = file.readlines()\n",
    "for line in lines:\n",
    "    characters += len(line)\n",
    "for line in lines :\n",
    "    words += len(line.split(' '))\n",
    "file.close()\n",
    "print('Lines = ', len(lines), ', Words = ', words, ', Characters = ', characters)"
   ]
  },
  {
   "cell_type": "markdown",
   "id": "72a46fec",
   "metadata": {},
   "source": [
    "## Q7"
   ]
  },
  {
   "cell_type": "code",
   "execution_count": 142,
   "id": "2308eb69",
   "metadata": {},
   "outputs": [
    {
     "name": "stdout",
     "output_type": "stream",
     "text": [
      "again\n",
      "file1\n",
      "\n",
      "is\n",
      "\n",
      "This\n",
      "\n",
      "This is file1. This is file1 again\n",
      "\n"
     ]
    }
   ],
   "source": [
    "file = open(\"File1.txt\", 'r')\n",
    "lines = file.readlines()\n",
    "for i in range (len(lines) - 1, -1, -1):\n",
    "    print(lines[i])\n",
    "file.close()"
   ]
  },
  {
   "cell_type": "markdown",
   "id": "b5c6e6e7",
   "metadata": {},
   "source": [
    "## Q8"
   ]
  },
  {
   "cell_type": "code",
   "execution_count": 48,
   "id": "d6ed0a6f",
   "metadata": {},
   "outputs": [
    {
     "name": "stdout",
     "output_type": "stream",
     "text": [
      "\n",
      "niaga 1elif si sihT .1elif si sihT\n",
      "\n",
      "sihT\n",
      "\n",
      "si\n",
      "\n",
      "1elif\n",
      "niaga1elifsisihTniaga\n"
     ]
    }
   ],
   "source": [
    "file = open(\"File1.txt\", 'r')\n",
    "lines = file.readlines()\n",
    "for line in lines:\n",
    "    print(line[::-1])\n",
    "file.close()"
   ]
  },
  {
   "cell_type": "markdown",
   "id": "c0fe8a93",
   "metadata": {},
   "source": [
    "## Q9"
   ]
  },
  {
   "cell_type": "code",
   "execution_count": 180,
   "id": "5df524cc",
   "metadata": {},
   "outputs": [],
   "source": [
    "lines = [\"This \", \"is \", \"firstline \", \"This \", \"is \", \"secondline\"]\n",
    "with open('File2.txt', 'w') as f:\n",
    "    f.writelines(lines)\n",
    "    f.write('\\n')\n",
    "    f.write(\"This is thirdline\")"
   ]
  },
  {
   "cell_type": "code",
   "execution_count": 181,
   "id": "8f767ee4",
   "metadata": {},
   "outputs": [
    {
     "name": "stdout",
     "output_type": "stream",
     "text": [
      "['This is\\n', 'firstline This\\n', 'is secondline\\n\\n', 'This is\\n', 'thirdline\\n']\n",
      "['This is\\n', 'firstline This\\n', 'is secondline\\n', '\\n', 'This is\\n', 'thirdline\\n']\n"
     ]
    }
   ],
   "source": [
    "def wrap(filename, width):\n",
    "    file = open(filename, 'r')\n",
    "    lines = file.readlines()\n",
    "    allwords = []\n",
    "    newlines = []\n",
    "    for l in lines:\n",
    "        words = l.split(' ')\n",
    "        for w in words:\n",
    "            allwords.append(w)\n",
    "    for i in range(0, len(allwords), width):\n",
    "        line = (' ').join(allwords[i : i + width])\n",
    "        newlines.append(line + '\\n')\n",
    "    print(newlines)\n",
    "    with open(filename, 'w') as f:\n",
    "        f.writelines(newlines)\n",
    "wrap('File2.txt', 2)\n",
    "file = open('File2.txt', 'r')\n",
    "lines = file.readlines()\n",
    "print(lines)"
   ]
  },
  {
   "cell_type": "markdown",
   "id": "c2339edd",
   "metadata": {},
   "source": [
    "## Q10"
   ]
  },
  {
   "cell_type": "code",
   "execution_count": 11,
   "id": "6806e1dd",
   "metadata": {},
   "outputs": [
    {
     "name": "stdout",
     "output_type": "stream",
     "text": [
      "[2, 4, 6, 8, 10, 12]\n",
      "[2, 4, 6, 8, 10, 12]\n"
     ]
    }
   ],
   "source": [
    "def func(e):\n",
    "    return 2 * e\n",
    "l = [1, 2, 3, 4, 5, 6]\n",
    "l1 = list(map(func, l))\n",
    "l2 = [i * 2 for i in l]\n",
    "print(l1)\n",
    "print(l2)"
   ]
  },
  {
   "cell_type": "markdown",
   "id": "d0648671",
   "metadata": {},
   "source": [
    "## Q11"
   ]
  },
  {
   "cell_type": "code",
   "execution_count": 13,
   "id": "b772a13d",
   "metadata": {},
   "outputs": [
    {
     "name": "stdout",
     "output_type": "stream",
     "text": [
      "[2, 4, 6]\n",
      "[2, 4, 6]\n"
     ]
    }
   ],
   "source": [
    "def func(e):\n",
    "    return e % 2 == 0\n",
    "l = [1, 2, 3, 4, 5, 6]\n",
    "l1 = list(filter(func, l))\n",
    "l2 = [i for i in l if i % 2 == 0]\n",
    "print(l1)\n",
    "print(l2)"
   ]
  },
  {
   "cell_type": "markdown",
   "id": "03bb01a5",
   "metadata": {},
   "source": [
    "## Q12"
   ]
  },
  {
   "cell_type": "code",
   "execution_count": 16,
   "id": "7e6270ab",
   "metadata": {},
   "outputs": [
    {
     "name": "stdout",
     "output_type": "stream",
     "text": [
      "6\n",
      "[[0, 0, 0], [0, 1, 1], [0, 2, 2], [0, 3, 3], [0, 4, 4], [0, 5, 5], [1, 1, 2], [1, 2, 3], [1, 3, 4], [1, 4, 5], [2, 2, 4], [2, 3, 5]]\n"
     ]
    }
   ],
   "source": [
    "n = int(input())\n",
    "l = []\n",
    "for i in range(0, n):\n",
    "    for j in range(i, n):\n",
    "        if i + j < n:\n",
    "            l.append([i, j, i + j])\n",
    "print(l)"
   ]
  },
  {
   "cell_type": "markdown",
   "id": "42879078",
   "metadata": {},
   "source": [
    "## Q13"
   ]
  },
  {
   "cell_type": "code",
   "execution_count": 212,
   "id": "968738ca",
   "metadata": {},
   "outputs": [
    {
     "name": "stdout",
     "output_type": "stream",
     "text": [
      "['User ID', 'Gender', 'Age', 'EstimatedSalary', 'Purchased']\n",
      "['15624510', 'Male', '19', '19000', '0']\n",
      "['15810944', 'Male', '35', '20000', '0']\n",
      "['15668575', 'Female', '26', '43000', '0']\n",
      "['15603246', 'Female', '27', '57000', '0']\n",
      "['15804002', 'Male', '19', '76000', '0']\n",
      "['15728773', 'Male', '27', '58000', '0']\n",
      "['15598044', 'Female', '27', '84000', '0']\n",
      "['15694829', 'Female', '32', '150000', '1']\n",
      "['15600575', 'Male', '25', '33000', '0']\n",
      "['15727311', 'Female', '35', '65000', '0']\n",
      "['15570769', 'Female', '26', '80000', '0']\n",
      "['15606274', 'Female', '26', '52000', '0']\n",
      "['15746139', 'Male', '20', '86000', '0']\n",
      "['15704987', 'Male', '32', '18000', '0']\n",
      "['15628972', 'Male', '18', '82000', '0']\n",
      "['15697686', 'Male', '29', '80000', '0']\n",
      "['15733883', 'Male', '47', '25000', '1']\n",
      "['15617482', 'Male', '45', '26000', '1']\n",
      "['15704583', 'Male', '46', '28000', '1']\n",
      "['15621083', 'Female', '48', '29000', '1']\n",
      "['15649487', 'Male', '45', '22000', '1']\n",
      "['15736760', 'Female', '47', '49000', '1']\n",
      "['15714658', 'Male', '48', '41000', '1']\n",
      "['15599081', 'Female', '45', '22000', '1']\n",
      "['15705113', 'Male', '46', '23000', '1']\n",
      "['15631159', 'Male', '47', '20000', '1']\n",
      "['15792818', 'Male', '49', '28000', '1']\n",
      "['15633531', 'Female', '47', '30000', '1']\n",
      "['15744529', 'Male', '29', '43000', '0']\n",
      "['15669656', 'Male', '31', '18000', '0']\n",
      "['15581198', 'Male', '31', '74000', '0']\n",
      "['15729054', 'Female', '27', '137000', '1']\n",
      "['15573452', 'Female', '21', '16000', '0']\n",
      "['15776733', 'Female', '28', '44000', '0']\n",
      "['15724858', 'Male', '27', '90000', '0']\n",
      "['15713144', 'Male', '35', '27000', '0']\n",
      "['15690188', 'Female', '33', '28000', '0']\n",
      "['15689425', 'Male', '30', '49000', '0']\n",
      "['15671766', 'Female', '26', '72000', '0']\n",
      "['15782806', 'Female', '27', '31000', '0']\n",
      "['15764419', 'Female', '27', '17000', '0']\n",
      "['15591915', 'Female', '33', '51000', '0']\n",
      "['15772798', 'Male', '35', '108000', '0']\n",
      "['15792008', 'Male', '30', '15000', '0']\n",
      "['15715541', 'Female', '28', '84000', '0']\n",
      "['15639277', 'Male', '23', '20000', '0']\n",
      "['15798850', 'Male', '25', '79000', '0']\n",
      "['15776348', 'Female', '27', '54000', '0']\n",
      "['15727696', 'Male', '30', '135000', '1']\n",
      "['15793813', 'Female', '31', '89000', '0']\n",
      "['15694395', 'Female', '24', '32000', '0']\n",
      "['15764195', 'Female', '18', '44000', '0']\n",
      "['15744919', 'Female', '29', '83000', '0']\n",
      "['15671655', 'Female', '35', '23000', '0']\n",
      "['15654901', 'Female', '27', '58000', '0']\n",
      "['15649136', 'Female', '24', '55000', '0']\n",
      "['15775562', 'Female', '23', '48000', '0']\n",
      "['15807481', 'Male', '28', '79000', '0']\n",
      "['15642885', 'Male', '22', '18000', '0']\n",
      "['15789109', 'Female', '32', '117000', '0']\n",
      "['15814004', 'Male', '27', '20000', '0']\n",
      "['15673619', 'Male', '25', '87000', '0']\n",
      "['15595135', 'Female', '23', '66000', '0']\n",
      "['15583681', 'Male', '32', '120000', '1']\n",
      "['15605000', 'Female', '59', '83000', '0']\n",
      "['15718071', 'Male', '24', '58000', '0']\n",
      "['15679760', 'Male', '24', '19000', '0']\n",
      "['15654574', 'Female', '23', '82000', '0']\n",
      "['15577178', 'Female', '22', '63000', '0']\n",
      "['15595324', 'Female', '31', '68000', '0']\n",
      "['15756932', 'Male', '25', '80000', '0']\n",
      "['15726358', 'Female', '24', '27000', '0']\n",
      "['15595228', 'Female', '20', '23000', '0']\n",
      "['15782530', 'Female', '33', '113000', '0']\n",
      "['15592877', 'Male', '32', '18000', '0']\n",
      "['15651983', 'Male', '34', '112000', '1']\n",
      "['15746737', 'Male', '18', '52000', '0']\n",
      "['15774179', 'Female', '22', '27000', '0']\n",
      "['15667265', 'Female', '28', '87000', '0']\n",
      "['15655123', 'Female', '26', '17000', '0']\n",
      "['15595917', 'Male', '30', '80000', '0']\n",
      "['15668385', 'Male', '39', '42000', '0']\n",
      "['15709476', 'Male', '20', '49000', '0']\n",
      "['15711218', 'Male', '35', '88000', '0']\n",
      "['15798659', 'Female', '30', '62000', '0']\n",
      "['15663939', 'Female', '31', '118000', '1']\n",
      "['15694946', 'Male', '24', '55000', '0']\n",
      "['15631912', 'Female', '28', '85000', '0']\n",
      "['15768816', 'Male', '26', '81000', '0']\n",
      "['15682268', 'Male', '35', '50000', '0']\n",
      "['15684801', 'Male', '22', '81000', '0']\n",
      "['15636428', 'Female', '30', '116000', '0']\n",
      "['15809823', 'Male', '26', '15000', '0']\n",
      "['15699284', 'Female', '29', '28000', '0']\n",
      "['15786993', 'Female', '29', '83000', '0']\n",
      "['15709441', 'Female', '35', '44000', '0']\n",
      "['15710257', 'Female', '35', '25000', '0']\n",
      "['15582492', 'Male', '28', '123000', '1']\n",
      "['15575694', 'Male', '35', '73000', '0']\n",
      "['15756820', 'Female', '28', '37000', '0']\n",
      "['15766289', 'Male', '27', '88000', '0']\n",
      "['15593014', 'Male', '28', '59000', '0']\n",
      "['15584545', 'Female', '32', '86000', '0']\n",
      "['15675949', 'Female', '33', '149000', '1']\n",
      "['15672091', 'Female', '19', '21000', '0']\n",
      "['15801658', 'Male', '21', '72000', '0']\n",
      "['15706185', 'Female', '26', '35000', '0']\n",
      "['15789863', 'Male', '27', '89000', '0']\n",
      "['15720943', 'Male', '26', '86000', '0']\n",
      "['15697997', 'Female', '38', '80000', '0']\n",
      "['15665416', 'Female', '39', '71000', '0']\n",
      "['15660200', 'Female', '37', '71000', '0']\n",
      "['15619653', 'Male', '38', '61000', '0']\n",
      "['15773447', 'Male', '37', '55000', '0']\n",
      "['15739160', 'Male', '42', '80000', '0']\n",
      "['15689237', 'Male', '40', '57000', '0']\n",
      "['15679297', 'Male', '35', '75000', '0']\n",
      "['15591433', 'Male', '36', '52000', '0']\n",
      "['15642725', 'Male', '40', '59000', '0']\n",
      "['15701962', 'Male', '41', '59000', '0']\n",
      "['15811613', 'Female', '36', '75000', '0']\n",
      "['15741049', 'Male', '37', '72000', '0']\n",
      "['15724423', 'Female', '40', '75000', '0']\n",
      "['15574305', 'Male', '35', '53000', '0']\n",
      "['15678168', 'Female', '41', '51000', '0']\n",
      "['15697020', 'Female', '39', '61000', '0']\n",
      "['15610801', 'Male', '42', '65000', '0']\n",
      "['15745232', 'Male', '26', '32000', '0']\n",
      "['15722758', 'Male', '30', '17000', '0']\n",
      "['15792102', 'Female', '26', '84000', '0']\n",
      "['15675185', 'Male', '31', '58000', '0']\n",
      "['15801247', 'Male', '33', '31000', '0']\n",
      "['15725660', 'Male', '30', '87000', '0']\n",
      "['15638963', 'Female', '21', '68000', '0']\n",
      "['15800061', 'Female', '28', '55000', '0']\n",
      "['15578006', 'Male', '23', '63000', '0']\n",
      "['15668504', 'Female', '20', '82000', '0']\n",
      "['15687491', 'Male', '30', '107000', '1']\n",
      "['15610403', 'Female', '28', '59000', '0']\n",
      "['15741094', 'Male', '19', '25000', '0']\n",
      "['15807909', 'Male', '19', '85000', '0']\n",
      "['15666141', 'Female', '18', '68000', '0']\n",
      "['15617134', 'Male', '35', '59000', '0']\n",
      "['15783029', 'Male', '30', '89000', '0']\n",
      "['15622833', 'Female', '34', '25000', '0']\n",
      "['15746422', 'Female', '24', '89000', '0']\n",
      "['15750839', 'Female', '27', '96000', '1']\n",
      "['15749130', 'Female', '41', '30000', '0']\n",
      "['15779862', 'Male', '29', '61000', '0']\n",
      "['15767871', 'Male', '20', '74000', '0']\n",
      "['15679651', 'Female', '26', '15000', '0']\n",
      "['15576219', 'Male', '41', '45000', '0']\n",
      "['15699247', 'Male', '31', '76000', '0']\n",
      "['15619087', 'Female', '36', '50000', '0']\n",
      "['15605327', 'Male', '40', '47000', '0']\n",
      "['15610140', 'Female', '31', '15000', '0']\n",
      "['15791174', 'Male', '46', '59000', '0']\n",
      "['15602373', 'Male', '29', '75000', '0']\n",
      "['15762605', 'Male', '26', '30000', '0']\n",
      "['15598840', 'Female', '32', '135000', '1']\n",
      "['15744279', 'Male', '32', '100000', '1']\n",
      "['15670619', 'Male', '25', '90000', '0']\n",
      "['15599533', 'Female', '37', '33000', '0']\n",
      "['15757837', 'Male', '35', '38000', '0']\n",
      "['15697574', 'Female', '33', '69000', '0']\n",
      "['15578738', 'Female', '18', '86000', '0']\n",
      "['15762228', 'Female', '22', '55000', '0']\n",
      "['15614827', 'Female', '35', '71000', '0']\n",
      "['15789815', 'Male', '29', '148000', '1']\n",
      "['15579781', 'Female', '29', '47000', '0']\n",
      "['15587013', 'Male', '21', '88000', '0']\n",
      "['15570932', 'Male', '34', '115000', '0']\n",
      "['15794661', 'Female', '26', '118000', '0']\n",
      "['15581654', 'Female', '34', '43000', '0']\n",
      "['15644296', 'Female', '34', '72000', '0']\n",
      "['15614420', 'Female', '23', '28000', '0']\n",
      "['15609653', 'Female', '35', '47000', '0']\n",
      "['15594577', 'Male', '25', '22000', '0']\n",
      "['15584114', 'Male', '24', '23000', '0']\n",
      "['15673367', 'Female', '31', '34000', '0']\n",
      "['15685576', 'Male', '26', '16000', '0']\n",
      "['15774727', 'Female', '31', '71000', '0']\n",
      "['15694288', 'Female', '32', '117000', '1']\n",
      "['15603319', 'Male', '33', '43000', '0']\n",
      "['15759066', 'Female', '33', '60000', '0']\n",
      "['15814816', 'Male', '31', '66000', '0']\n",
      "['15724402', 'Female', '20', '82000', '0']\n",
      "['15571059', 'Female', '33', '41000', '0']\n",
      "['15674206', 'Male', '35', '72000', '0']\n",
      "['15715160', 'Male', '28', '32000', '0']\n",
      "['15730448', 'Male', '24', '84000', '0']\n",
      "['15662067', 'Female', '19', '26000', '0']\n",
      "['15779581', 'Male', '29', '43000', '0']\n",
      "['15662901', 'Male', '19', '70000', '0']\n",
      "['15689751', 'Male', '28', '89000', '0']\n",
      "['15667742', 'Male', '34', '43000', '0']\n",
      "['15738448', 'Female', '30', '79000', '0']\n",
      "['15680243', 'Female', '20', '36000', '0']\n",
      "['15745083', 'Male', '26', '80000', '0']\n",
      "['15708228', 'Male', '35', '22000', '0']\n",
      "['15628523', 'Male', '35', '39000', '0']\n",
      "['15708196', 'Male', '49', '74000', '0']\n",
      "['15735549', 'Female', '39', '134000', '1']\n",
      "['15809347', 'Female', '41', '71000', '0']\n",
      "['15660866', 'Female', '58', '101000', '1']\n",
      "['15766609', 'Female', '47', '47000', '0']\n",
      "['15654230', 'Female', '55', '130000', '1']\n",
      "['15794566', 'Female', '52', '114000', '0']\n",
      "['15800890', 'Female', '40', '142000', '1']\n",
      "['15697424', 'Female', '46', '22000', '0']\n",
      "['15724536', 'Female', '48', '96000', '1']\n",
      "['15735878', 'Male', '52', '150000', '1']\n",
      "['15707596', 'Female', '59', '42000', '0']\n",
      "['15657163', 'Male', '35', '58000', '0']\n",
      "['15622478', 'Male', '47', '43000', '0']\n",
      "['15779529', 'Female', '60', '108000', '1']\n",
      "['15636023', 'Male', '49', '65000', '0']\n",
      "['15582066', 'Male', '40', '78000', '0']\n",
      "['15666675', 'Female', '46', '96000', '0']\n",
      "['15732987', 'Male', '59', '143000', '1']\n",
      "['15789432', 'Female', '41', '80000', '0']\n",
      "['15663161', 'Male', '35', '91000', '1']\n",
      "['15694879', 'Male', '37', '144000', '1']\n",
      "['15593715', 'Male', '60', '102000', '1']\n",
      "['15575002', 'Female', '35', '60000', '0']\n",
      "['15622171', 'Male', '37', '53000', '0']\n",
      "['15795224', 'Female', '36', '126000', '1']\n",
      "['15685346', 'Male', '56', '133000', '1']\n",
      "['15691808', 'Female', '40', '72000', '0']\n",
      "['15721007', 'Female', '42', '80000', '1']\n",
      "['15794253', 'Female', '35', '147000', '1']\n",
      "['15694453', 'Male', '39', '42000', '0']\n",
      "['15813113', 'Male', '40', '107000', '1']\n",
      "['15614187', 'Male', '49', '86000', '1']\n",
      "['15619407', 'Female', '38', '112000', '0']\n",
      "['15646227', 'Male', '46', '79000', '1']\n",
      "['15660541', 'Male', '40', '57000', '0']\n",
      "['15753874', 'Female', '37', '80000', '0']\n",
      "['15617877', 'Female', '46', '82000', '0']\n",
      "['15772073', 'Female', '53', '143000', '1']\n",
      "['15701537', 'Male', '42', '149000', '1']\n",
      "['15736228', 'Male', '38', '59000', '0']\n",
      "['15780572', 'Female', '50', '88000', '1']\n",
      "['15769596', 'Female', '56', '104000', '1']\n",
      "['15586996', 'Female', '41', '72000', '0']\n",
      "['15722061', 'Female', '51', '146000', '1']\n",
      "['15638003', 'Female', '35', '50000', '0']\n",
      "['15775590', 'Female', '57', '122000', '1']\n",
      "['15730688', 'Male', '41', '52000', '0']\n",
      "['15753102', 'Female', '35', '97000', '1']\n",
      "['15810075', 'Female', '44', '39000', '0']\n",
      "['15723373', 'Male', '37', '52000', '0']\n",
      "['15795298', 'Female', '48', '134000', '1']\n",
      "['15584320', 'Female', '37', '146000', '1']\n",
      "['15724161', 'Female', '50', '44000', '0']\n",
      "['15750056', 'Female', '52', '90000', '1']\n",
      "['15609637', 'Female', '41', '72000', '0']\n",
      "['15794493', 'Male', '40', '57000', '0']\n",
      "['15569641', 'Female', '58', '95000', '1']\n",
      "['15815236', 'Female', '45', '131000', '1']\n",
      "['15811177', 'Female', '35', '77000', '0']\n",
      "['15680587', 'Male', '36', '144000', '1']\n",
      "['15672821', 'Female', '55', '125000', '1']\n",
      "['15767681', 'Female', '35', '72000', '0']\n",
      "['15600379', 'Male', '48', '90000', '1']\n",
      "['15801336', 'Female', '42', '108000', '1']\n",
      "['15721592', 'Male', '40', '75000', '0']\n",
      "['15581282', 'Male', '37', '74000', '0']\n",
      "['15746203', 'Female', '47', '144000', '1']\n",
      "['15583137', 'Male', '40', '61000', '0']\n",
      "['15680752', 'Female', '43', '133000', '0']\n",
      "['15688172', 'Female', '59', '76000', '1']\n",
      "['15791373', 'Male', '60', '42000', '1']\n",
      "['15589449', 'Male', '39', '106000', '1']\n",
      "['15692819', 'Female', '57', '26000', '1']\n",
      "['15727467', 'Male', '57', '74000', '1']\n",
      "['15734312', 'Male', '38', '71000', '0']\n",
      "['15764604', 'Male', '49', '88000', '1']\n",
      "['15613014', 'Female', '52', '38000', '1']\n",
      "['15759684', 'Female', '50', '36000', '1']\n",
      "['15609669', 'Female', '59', '88000', '1']\n",
      "['15685536', 'Male', '35', '61000', '0']\n",
      "['15750447', 'Male', '37', '70000', '1']\n",
      "['15663249', 'Female', '52', '21000', '1']\n",
      "['15638646', 'Male', '48', '141000', '0']\n",
      "['15734161', 'Female', '37', '93000', '1']\n",
      "['15631070', 'Female', '37', '62000', '0']\n",
      "['15761950', 'Female', '48', '138000', '1']\n",
      "['15649668', 'Male', '41', '79000', '0']\n",
      "['15713912', 'Female', '37', '78000', '1']\n",
      "['15586757', 'Male', '39', '134000', '1']\n",
      "['15596522', 'Male', '49', '89000', '1']\n",
      "['15625395', 'Male', '55', '39000', '1']\n",
      "['15760570', 'Male', '37', '77000', '0']\n",
      "['15566689', 'Female', '35', '57000', '0']\n",
      "['15725794', 'Female', '36', '63000', '0']\n",
      "['15673539', 'Male', '42', '73000', '1']\n",
      "['15705298', 'Female', '43', '112000', '1']\n",
      "['15675791', 'Male', '45', '79000', '0']\n",
      "['15747043', 'Male', '46', '117000', '1']\n",
      "['15736397', 'Female', '58', '38000', '1']\n",
      "['15678201', 'Male', '48', '74000', '1']\n",
      "['15720745', 'Female', '37', '137000', '1']\n",
      "['15637593', 'Male', '37', '79000', '1']\n",
      "['15598070', 'Female', '40', '60000', '0']\n",
      "['15787550', 'Male', '42', '54000', '0']\n",
      "['15603942', 'Female', '51', '134000', '0']\n",
      "['15733973', 'Female', '47', '113000', '1']\n",
      "['15596761', 'Male', '36', '125000', '1']\n",
      "['15652400', 'Female', '38', '50000', '0']\n",
      "['15717893', 'Female', '42', '70000', '0']\n",
      "['15622585', 'Male', '39', '96000', '1']\n",
      "['15733964', 'Female', '38', '50000', '0']\n",
      "['15753861', 'Female', '49', '141000', '1']\n",
      "['15747097', 'Female', '39', '79000', '0']\n",
      "['15594762', 'Female', '39', '75000', '1']\n",
      "['15667417', 'Female', '54', '104000', '1']\n",
      "['15684861', 'Male', '35', '55000', '0']\n",
      "['15742204', 'Male', '45', '32000', '1']\n",
      "['15623502', 'Male', '36', '60000', '0']\n",
      "['15774872', 'Female', '52', '138000', '1']\n",
      "['15611191', 'Female', '53', '82000', '1']\n",
      "['15674331', 'Male', '41', '52000', '0']\n",
      "['15619465', 'Female', '48', '30000', '1']\n",
      "['15575247', 'Female', '48', '131000', '1']\n",
      "['15695679', 'Female', '41', '60000', '0']\n",
      "['15713463', 'Male', '41', '72000', '0']\n",
      "['15785170', 'Female', '42', '75000', '0']\n",
      "['15796351', 'Male', '36', '118000', '1']\n",
      "['15639576', 'Female', '47', '107000', '1']\n",
      "['15693264', 'Male', '38', '51000', '0']\n",
      "['15589715', 'Female', '48', '119000', '1']\n",
      "['15769902', 'Male', '42', '65000', '0']\n",
      "['15587177', 'Male', '40', '65000', '0']\n",
      "['15814553', 'Male', '57', '60000', '1']\n",
      "['15601550', 'Female', '36', '54000', '0']\n",
      "['15664907', 'Male', '58', '144000', '1']\n",
      "['15612465', 'Male', '35', '79000', '0']\n",
      "['15810800', 'Female', '38', '55000', '0']\n",
      "['15665760', 'Male', '39', '122000', '1']\n",
      "['15588080', 'Female', '53', '104000', '1']\n",
      "['15776844', 'Male', '35', '75000', '0']\n",
      "['15717560', 'Female', '38', '65000', '0']\n",
      "['15629739', 'Female', '47', '51000', '1']\n",
      "['15729908', 'Male', '47', '105000', '1']\n",
      "['15716781', 'Female', '41', '63000', '0']\n",
      "['15646936', 'Male', '53', '72000', '1']\n",
      "['15768151', 'Female', '54', '108000', '1']\n",
      "['15579212', 'Male', '39', '77000', '0']\n",
      "['15721835', 'Male', '38', '61000', '0']\n",
      "['15800515', 'Female', '38', '113000', '1']\n",
      "['15591279', 'Male', '37', '75000', '0']\n",
      "['15587419', 'Female', '42', '90000', '1']\n",
      "['15750335', 'Female', '37', '57000', '0']\n",
      "['15699619', 'Male', '36', '99000', '1']\n",
      "['15606472', 'Male', '60', '34000', '1']\n",
      "['15778368', 'Male', '54', '70000', '1']\n",
      "['15671387', 'Female', '41', '72000', '0']\n",
      "['15573926', 'Male', '40', '71000', '1']\n",
      "['15709183', 'Male', '42', '54000', '0']\n",
      "['15577514', 'Male', '43', '129000', '1']\n",
      "['15778830', 'Female', '53', '34000', '1']\n",
      "['15768072', 'Female', '47', '50000', '1']\n",
      "['15768293', 'Female', '42', '79000', '0']\n",
      "['15654456', 'Male', '42', '104000', '1']\n",
      "['15807525', 'Female', '59', '29000', '1']\n",
      "['15574372', 'Female', '58', '47000', '1']\n",
      "['15671249', 'Male', '46', '88000', '1']\n",
      "['15779744', 'Male', '38', '71000', '0']\n",
      "['15624755', 'Female', '54', '26000', '1']\n",
      "['15611430', 'Female', '60', '46000', '1']\n",
      "['15774744', 'Male', '60', '83000', '1']\n",
      "['15629885', 'Female', '39', '73000', '0']\n",
      "['15708791', 'Male', '59', '130000', '1']\n",
      "['15793890', 'Female', '37', '80000', '0']\n",
      "['15646091', 'Female', '46', '32000', '1']\n",
      "['15596984', 'Female', '46', '74000', '0']\n",
      "['15800215', 'Female', '42', '53000', '0']\n",
      "['15577806', 'Male', '41', '87000', '1']\n",
      "['15749381', 'Female', '58', '23000', '1']\n",
      "['15683758', 'Male', '42', '64000', '0']\n",
      "['15670615', 'Male', '48', '33000', '1']\n",
      "['15715622', 'Female', '44', '139000', '1']\n",
      "['15707634', 'Male', '49', '28000', '1']\n",
      "['15806901', 'Female', '57', '33000', '1']\n",
      "['15775335', 'Male', '56', '60000', '1']\n",
      "['15724150', 'Female', '49', '39000', '1']\n",
      "['15627220', 'Male', '39', '71000', '0']\n",
      "['15672330', 'Male', '47', '34000', '1']\n",
      "['15668521', 'Female', '48', '35000', '1']\n",
      "['15807837', 'Male', '48', '33000', '1']\n",
      "['15592570', 'Male', '47', '23000', '1']\n",
      "['15748589', 'Female', '45', '45000', '1']\n",
      "['15635893', 'Male', '60', '42000', '1']\n",
      "['15757632', 'Female', '39', '59000', '0']\n",
      "['15691863', 'Female', '46', '41000', '1']\n",
      "['15706071', 'Male', '51', '23000', '1']\n",
      "['15654296', 'Female', '50', '20000', '1']\n",
      "['15755018', 'Male', '36', '33000', '0']\n",
      "['15594041', 'Female', '49', '36000', '1']\n"
     ]
    }
   ],
   "source": [
    "def func(i):\n",
    "    if i.find('\\n') != -1:\n",
    "        return i[: -1]\n",
    "    return i\n",
    "def parse_csv(filename):\n",
    "    file = open(filename, 'r')\n",
    "    lines = file.readlines()\n",
    "    for i in range(0, len(lines)):\n",
    "        allLines = lines[i].split(\",\")\n",
    "        allLines = list(map(func, allLines))\n",
    "        print(allLines)\n",
    "    file.close()\n",
    "parse_csv('Social_Network_Ads.csv')"
   ]
  },
  {
   "cell_type": "markdown",
   "id": "3a9282fa",
   "metadata": {},
   "source": [
    "## Q15"
   ]
  },
  {
   "cell_type": "code",
   "execution_count": 38,
   "id": "83a635b2",
   "metadata": {},
   "outputs": [
    {
     "name": "stdout",
     "output_type": "stream",
     "text": [
      "Pat\n",
      "Cat\n",
      "True\n",
      "Replace: True\n",
      "Insert/Delete: False\n",
      "Swapping False\n"
     ]
    }
   ],
   "source": [
    "def insert(a, b):\n",
    "    l1 = list(a)\n",
    "    l2 = list(b)\n",
    "    if len(l1) > len(l2):\n",
    "        for i in range(0, len(l2)):\n",
    "            if l1[i] != l2[i]:\n",
    "                l2.insert(i, l1[i])\n",
    "        if len(l1) > len(l2):\n",
    "            l2.insert(len(l2), l1[len(l2)])\n",
    "        if l1 == l2:\n",
    "            return True \n",
    "        else:\n",
    "            return False\n",
    "    else:\n",
    "        return False\n",
    "\n",
    "def swapping(a, b):\n",
    "    l1 = list(a)\n",
    "    l2 = list(b)\n",
    "    if len(l1) != len(l2):\n",
    "        return False\n",
    "    else:\n",
    "        k = 0\n",
    "        for i in range(0, len(l1)):\n",
    "            if l1[i] != l2[i]:\n",
    "                if l2[i + 1] == l1[i] and l2[i] == l1[i + 1]:\n",
    "                    l1[i + 1], l1[i] = l1[i], l1[i + 1]\n",
    "                    k += 1\n",
    "                else:\n",
    "                    return False\n",
    "        if k == 1 and l1 == l2:\n",
    "            return True\n",
    "        else:\n",
    "            return False\n",
    "\n",
    "def replacing(a, b):\n",
    "    if(len(a) == len(b)):\n",
    "        c = 0\n",
    "        for i in range(0, len(a)):\n",
    "            if a[i] != b[i]:\n",
    "                c += 1\n",
    "        return c == 1\n",
    "    else:\n",
    "        return False\n",
    "a = input()\n",
    "b = input()\n",
    "if len(b) > len(a):\n",
    "    a, b = b, a\n",
    "if(a == b):\n",
    "    print(\"Both are equal\")\n",
    "else:\n",
    "    canBeFormed = replacing(a, b) or insert(a, b) or swapping(a, b)\n",
    "    print(canBeFormed)\n",
    "    print('Replace:', replacing(a, b))\n",
    "    print('Insert/Delete:', insert(a, b))\n",
    "    print('Swapping', swapping(a, b))"
   ]
  },
  {
   "cell_type": "markdown",
   "id": "ddc981c1",
   "metadata": {},
   "source": [
    "## Q16"
   ]
  },
  {
   "cell_type": "code",
   "execution_count": 40,
   "id": "38dd3cce",
   "metadata": {},
   "outputs": [
    {
     "name": "stdout",
     "output_type": "stream",
     "text": [
      "It is a .txt file\n",
      "{'T': 3, 'h': 3, 'i': 11, 's': 6, ' ': 6, 'f': 3, 'l': 3, 'e': 3, '1': 3, '.': 1, 'a': 4, 'g': 2, 'n': 2, '\\n': 4}\n"
     ]
    }
   ],
   "source": [
    "freq = {}\n",
    "file = open(\"File1.txt\", 'r')\n",
    "lines = file.readlines()\n",
    "for line in lines:\n",
    "    ll = list(line)\n",
    "    for i in ll:\n",
    "        if i in freq:\n",
    "            freq[i] += 1\n",
    "        else:\n",
    "            freq[i] = 1\n",
    "file.close()\n",
    "if '{' in freq and ';' in freq:\n",
    "    print('It is a .cpp file')\n",
    "elif '(' in freq and ':' in freq:\n",
    "    print('It is a .py file')\n",
    "else:\n",
    "    print('It is a .txt file')\n",
    "print(freq)"
   ]
  },
  {
   "cell_type": "markdown",
   "id": "32aa8c80",
   "metadata": {},
   "source": [
    "## Q17"
   ]
  },
  {
   "cell_type": "code",
   "execution_count": 91,
   "id": "19a6cdf6",
   "metadata": {},
   "outputs": [
    {
     "name": "stdout",
     "output_type": "stream",
     "text": [
      "['abc', 'cab', 'bca', 'pljh', 'hjlp']\n",
      "abc\n",
      "cab\n",
      "bca\n",
      "are anagrams\n",
      "pljh\n",
      "hjlp\n",
      "are anagrams\n"
     ]
    }
   ],
   "source": [
    "import copy\n",
    "def sortF(l):\n",
    "    for i in range(0, len(l)):\n",
    "        l[i] = (\"\").join(sorted(l[i]))\n",
    "    return l\n",
    "l = [\"abc\", \"cab\", \"bca\", \"pljh\", \"hjlp\"]\n",
    "k = copy.deepcopy(l)\n",
    "print(k)\n",
    "l = sortF(l)\n",
    "freq = {}\n",
    "for i in range (0, len(l)):\n",
    "    if l[i] in freq:\n",
    "        lst = freq[l[i]]\n",
    "        lst.append(i)\n",
    "        freq[l[i]] = lst\n",
    "    else:\n",
    "        freq[l[i]] = [i]\n",
    "for i in freq:\n",
    "    for j in freq[i]:\n",
    "        print(k[j])\n",
    "    print(\"are anagrams\")"
   ]
  }
 ],
 "metadata": {
  "kernelspec": {
   "display_name": "Python 3",
   "language": "python",
   "name": "python3"
  },
  "language_info": {
   "codemirror_mode": {
    "name": "ipython",
    "version": 3
   },
   "file_extension": ".py",
   "mimetype": "text/x-python",
   "name": "python",
   "nbconvert_exporter": "python",
   "pygments_lexer": "ipython3",
   "version": "3.8.10"
  }
 },
 "nbformat": 4,
 "nbformat_minor": 5
}
